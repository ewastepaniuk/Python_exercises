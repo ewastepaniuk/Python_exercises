{
 "cells": [
  {
   "cell_type": "markdown",
   "id": "bdf62999-1777-4a79-af65-11721a102c2b",
   "metadata": {
    "jp-MarkdownHeadingCollapsed": true
   },
   "source": [
    "### Kontrola przepływu programu (ControlFlow)\n",
    "---"
   ]
  },
  {
   "cell_type": "markdown",
   "id": "52ad5658-6e4b-451b-87ae-d7e965bd8ef6",
   "metadata": {},
   "source": [
    "Używając pętli for, napisz program, który wyświetli kolejne potęgi liczby 2 dla wykładnika z przedziału od 0 do 10 włącznie"
   ]
  },
  {
   "cell_type": "code",
   "execution_count": 178,
   "id": "4f02bd98-ce79-48c2-a874-82892f14a637",
   "metadata": {
    "scrolled": true
   },
   "outputs": [
    {
     "name": "stdout",
     "output_type": "stream",
     "text": [
      "2^0 = 1\n",
      "2^1 = 2\n",
      "2^2 = 4\n",
      "2^3 = 8\n",
      "2^4 = 16\n",
      "2^5 = 32\n",
      "2^6 = 64\n",
      "2^7 = 128\n",
      "2^8 = 256\n",
      "2^9 = 512\n",
      "2^10 = 1024\n"
     ]
    }
   ],
   "source": [
    "i = 0                        #  licznik do iteracji\n",
    "for exp in range(11):\n",
    "    result = 2 ** exp\n",
    "    print(f'2^{exp} = {result}')\n",
    "    i += 1                   #  dodanie +1 do iteracji"
   ]
  },
  {
   "cell_type": "markdown",
   "id": "5139f8bd-6578-48bf-b334-853ebee5b8ef",
   "metadata": {
    "jp-MarkdownHeadingCollapsed": true
   },
   "source": [
    "---\n",
    "#### Porównywanie imion i liczb"
   ]
  },
  {
   "cell_type": "code",
   "execution_count": 8,
   "id": "c7ff5e06-c17f-4a4e-b0e3-68fc18582e75",
   "metadata": {},
   "outputs": [
    {
     "name": "stdin",
     "output_type": "stream",
     "text": [
      "Input name:  ewa\n",
      "Input second name:  mewa\n"
     ]
    },
    {
     "name": "stdout",
     "output_type": "stream",
     "text": [
      "They are different\n"
     ]
    }
   ],
   "source": [
    "name = input('Input name: ')\n",
    "second_name = input ('Input second name: ')\n",
    "if name == second_name:\n",
    "    print('They are the same.')\n",
    "else:\n",
    "    print('They are different')"
   ]
  },
  {
   "cell_type": "code",
   "execution_count": 11,
   "id": "c81c8822-829a-436e-830e-c415a0fc4de7",
   "metadata": {},
   "outputs": [
    {
     "name": "stdin",
     "output_type": "stream",
     "text": [
      "Podaj a:  1\n",
      "Podaj b:  1\n"
     ]
    },
    {
     "name": "stdout",
     "output_type": "stream",
     "text": [
      "Są równe.\n"
     ]
    }
   ],
   "source": [
    "a = float(input('Podaj a: '))\n",
    "b = float(input('Podaj b: '))\n",
    "if a == b:\n",
    "    print('Są równe.')\n",
    "elif a > b:\n",
    "    print('a jest większe!')\n",
    "else:\n",
    "    print('b jest większe!')"
   ]
  },
  {
   "cell_type": "markdown",
   "id": "63effa21-c993-44e0-8532-59fcdbbc0137",
   "metadata": {
    "jp-MarkdownHeadingCollapsed": true
   },
   "source": [
    "---\n",
    "#### Równania kwadratowe"
   ]
  },
  {
   "cell_type": "code",
   "execution_count": 22,
   "id": "225925d8-e02f-4cc2-9f60-3b1ed1e7a210",
   "metadata": {},
   "outputs": [
    {
     "name": "stdout",
     "output_type": "stream",
     "text": [
      "a*x**2 + b*x + c == 0\n"
     ]
    },
    {
     "name": "stdin",
     "output_type": "stream",
     "text": [
      "Podaj a:  2\n",
      "Podaj b:  3\n",
      "Podaj c:  1\n"
     ]
    },
    {
     "name": "stdout",
     "output_type": "stream",
     "text": [
      "Pierwiastki równania kwadratowego:\n",
      " x_1 = -1.0\n",
      " x_2 = -0.5\n"
     ]
    }
   ],
   "source": [
    "print('a*x**2 + b*x + c == 0')\n",
    "\n",
    "a = int(input('Podaj a: '))\n",
    "b = int(input('Podaj b: '))\n",
    "c = int(input('Podaj c: '))\n",
    "\n",
    "delta = b**2 - 4*a*c\n",
    "\n",
    "if delta > 0:\n",
    "    x_1 = round((- b - (delta ** (1 / 2)))/(2 * a), 2)\n",
    "    x_2 = round((- b + (delta ** (1 / 2)))/(2 * a), 2)\n",
    "    print(f'Pierwiastki równania kwadratowego:\\n x_1 = {x_1}\\n x_2 = {x_2}')\n",
    "\n",
    "elif delta == 0:\n",
    "    x_1 = round(- b / (2 * a), 2)\n",
    "    x_2 = x_1\n",
    "    print(f'Pierwiastki równania kwadratowego:\\n x_1 = x_2{x_1}')\n",
    "else:\n",
    "    print('Delta mniejsza od zera, brak rozwiązań')"
   ]
  },
  {
   "cell_type": "markdown",
   "id": "2a5ab0d9-9416-4872-9118-0b64aa3fc536",
   "metadata": {
    "jp-MarkdownHeadingCollapsed": true
   },
   "source": [
    "---\n",
    "#### Suma liczb\n",
    "Napisz program, który policzy sumę wszystkich liczb od 0 do **n**, gdzie n jest dowolną liczbą naturalną.\n",
    "\n",
    "Zadanie rozwiąż na dwa sposoby:\n",
    "- Używając pętli.\n",
    "- Korzystając z wbudowanych w Pythona funkcji: range i sum."
   ]
  },
  {
   "cell_type": "code",
   "execution_count": 175,
   "id": "38b5256e-2a55-4907-a236-1f912cf8f454",
   "metadata": {},
   "outputs": [
    {
     "name": "stdin",
     "output_type": "stream",
     "text": [
      "Podaj liczbę całkowitą:  2\n"
     ]
    },
    {
     "name": "stdout",
     "output_type": "stream",
     "text": [
      "3\n"
     ]
    }
   ],
   "source": [
    "c = int(input('Podaj liczbę całkowitą: '))\n",
    "s_total = 0\n",
    "\n",
    "for i in range(c + 1):\n",
    "    s_total += i\n",
    "\n",
    "print(s_total)"
   ]
  },
  {
   "cell_type": "code",
   "execution_count": 10,
   "id": "0cfec81d-65dd-4478-817a-0f2adb3ab16f",
   "metadata": {},
   "outputs": [
    {
     "name": "stdin",
     "output_type": "stream",
     "text": [
      " 9\n"
     ]
    },
    {
     "name": "stdout",
     "output_type": "stream",
     "text": [
      "45\n"
     ]
    }
   ],
   "source": [
    "# drugi sposób z sum i range\n",
    "l = int(input())\n",
    "s_total = sum(range(l + 1))\n",
    "print(s_total)"
   ]
  },
  {
   "cell_type": "code",
   "execution_count": 26,
   "id": "453ad8c2-6133-4b27-a8e2-84b1b89c5310",
   "metadata": {},
   "outputs": [
    {
     "name": "stdout",
     "output_type": "stream",
     "text": [
      "Help on built-in function sum in module builtins:\n",
      "\n",
      "sum(iterable, /, start=0)\n",
      "    Return the sum of a 'start' value (default: 0) plus an iterable of numbers\n",
      "\n",
      "    When the iterable is empty, return the start value.\n",
      "    This function is intended specifically for use with numeric values and may\n",
      "    reject non-numeric types.\n",
      "\n"
     ]
    }
   ],
   "source": [
    "help(sum)"
   ]
  },
  {
   "cell_type": "markdown",
   "id": "67064af2-65d1-4d70-a94b-d4adcda93f3e",
   "metadata": {
    "jp-MarkdownHeadingCollapsed": true
   },
   "source": [
    "---\n",
    "### Średnia\n",
    "\n",
    "Napisz program, który:\n",
    "- zapisze dowolne liczby w liście w zmiennej numbers\n",
    "- policzy ich sumę i średnią\n",
    "- wypisze na ekran te liczby\n",
    "- porówna ze sobą średnią oraz sumę i wyświetli wynik porównania."
   ]
  },
  {
   "cell_type": "code",
   "execution_count": 114,
   "id": "a3b7e283-7b97-4db0-98d3-b9026ee9d776",
   "metadata": {},
   "outputs": [
    {
     "name": "stdout",
     "output_type": "stream",
     "text": [
      "Podaj dane w formacie: avg(x, y, z):\n"
     ]
    }
   ],
   "source": [
    "print('Podaj dane w formacie: avg(x, y, z):')\n",
    "def avg(x, y, z):\n",
    "    lista = [x, y, z]\n",
    "    sumka = sum(lista)\n",
    "    avg = sumka / len(lista)\n",
    "    print(f'''\n",
    "Twoje liczby to: {lista}\n",
    "Ich suma wynosi: {sumka},\n",
    "a średnia: {avg}. \n",
    "Jak mają się do siebie średnia i suma?''')\n",
    "    if avg < sumka:\n",
    "        print('Suma jest większa!')\n",
    "    else:\n",
    "        print('Suma jest mniejsza')\n",
    "\n",
    "# suma = sum(range(numbers))\n",
    "#avg = suma / len.numbers()\n",
    "#print(avg)"
   ]
  },
  {
   "cell_type": "code",
   "execution_count": 115,
   "id": "8cac4b09-e66e-45c7-833c-11f71d7a399a",
   "metadata": {},
   "outputs": [
    {
     "name": "stdout",
     "output_type": "stream",
     "text": [
      "\n",
      "Twoje liczby to: [1990, 1000, 54343]\n",
      "Ich suma wynosi: 57333,\n",
      "a średnia: 19111.0. \n",
      "Jak mają się do siebie średnia i suma?\n",
      "Suma jest większa!\n"
     ]
    }
   ],
   "source": [
    "avg(1990, 1000, 54343)"
   ]
  },
  {
   "cell_type": "markdown",
   "id": "39e34f48-d7ed-487e-bdfd-10e9b5b606bf",
   "metadata": {
    "jp-MarkdownHeadingCollapsed": true
   },
   "source": [
    "---\n",
    "#### Porównywanie napisów"
   ]
  },
  {
   "cell_type": "code",
   "execution_count": 116,
   "id": "b92c0a94-110b-4750-b8e2-b56717854013",
   "metadata": {},
   "outputs": [
    {
     "name": "stdout",
     "output_type": "stream",
     "text": [
      "kot < pies\n"
     ]
    }
   ],
   "source": [
    "c = 'kot'\n",
    "d = 'pies'\n",
    "if c > d:\n",
    "    print('kot > pies')\n",
    "else:\n",
    "    print('kot < pies')"
   ]
  },
  {
   "cell_type": "markdown",
   "id": "3c361fb0-efb6-413d-82ff-456eacf5e55c",
   "metadata": {
    "jp-MarkdownHeadingCollapsed": true
   },
   "source": [
    "---\n",
    "\n",
    "#### Definiowanie listy liczb\n",
    "\n",
    "1. Zdefiniuj listę składającą się z liczb parzystych od 2 do 98,\n",
    "2. Wypisz każdą z tych liczb w osobnym wierszu używając poniższego szablonu:\n",
    "\n",
    "    Liczba: (liczba)"
   ]
  },
  {
   "cell_type": "code",
   "execution_count": 136,
   "id": "ebab1937-2b51-4d89-93ef-8853a85bb6e1",
   "metadata": {
    "scrolled": true
   },
   "outputs": [
    {
     "name": "stdout",
     "output_type": "stream",
     "text": [
      "Liczba:  2\n",
      "Liczba:  4\n",
      "Liczba:  6\n",
      "Liczba:  8\n",
      "Liczba:  10\n",
      "Liczba:  12\n",
      "Liczba:  14\n",
      "Liczba:  16\n",
      "Liczba:  18\n",
      "Liczba:  20\n",
      "Liczba:  22\n",
      "Liczba:  24\n",
      "Liczba:  26\n",
      "Liczba:  28\n",
      "Liczba:  30\n",
      "Liczba:  32\n",
      "Liczba:  34\n",
      "Liczba:  36\n",
      "Liczba:  38\n",
      "Liczba:  40\n",
      "Liczba:  42\n",
      "Liczba:  44\n",
      "Liczba:  46\n",
      "Liczba:  48\n",
      "Liczba:  50\n",
      "Liczba:  52\n",
      "Liczba:  54\n",
      "Liczba:  56\n",
      "Liczba:  58\n",
      "Liczba:  60\n",
      "Liczba:  62\n",
      "Liczba:  64\n",
      "Liczba:  66\n",
      "Liczba:  68\n",
      "Liczba:  70\n",
      "Liczba:  72\n",
      "Liczba:  74\n",
      "Liczba:  76\n",
      "Liczba:  78\n",
      "Liczba:  80\n",
      "Liczba:  82\n",
      "Liczba:  84\n",
      "Liczba:  86\n",
      "Liczba:  88\n",
      "Liczba:  90\n",
      "Liczba:  92\n",
      "Liczba:  94\n",
      "Liczba:  96\n",
      "Liczba:  98\n"
     ]
    }
   ],
   "source": [
    "liczba = []\n",
    "for i in range(2, 99, 2):\n",
    "    liczba.append(i)\n",
    "    print(f'Liczba:  {i}')\n",
    "    i += 1"
   ]
  },
  {
   "cell_type": "markdown",
   "id": "2ea2596e-d208-4156-98c8-2c154036515f",
   "metadata": {
    "jp-MarkdownHeadingCollapsed": true
   },
   "source": [
    "---\n",
    "#### Tabliczka mnożenia\n",
    "1. Pobierze od użytkownika liczbę **n** z przedziału od 1 do 10.\n",
    "2. Wygeneruje tabliczkę mnożenia dla podanej liczby.\n",
    "   "
   ]
  },
  {
   "cell_type": "code",
   "execution_count": 159,
   "id": "4bb4cd57-da76-4ac0-913b-702024d2cc19",
   "metadata": {},
   "outputs": [
    {
     "name": "stdin",
     "output_type": "stream",
     "text": [
      "Podaj liczbę z przedziału od 1 do 10:  342\n"
     ]
    },
    {
     "name": "stdout",
     "output_type": "stream",
     "text": [
      "1 * 342.0 = 342.0\n",
      "2 * 342.0 = 684.0\n",
      "3 * 342.0 = 1026.0\n",
      "4 * 342.0 = 1368.0\n",
      "5 * 342.0 = 1710.0\n",
      "6 * 342.0 = 2052.0\n",
      "7 * 342.0 = 2394.0\n",
      "8 * 342.0 = 2736.0\n",
      "9 * 342.0 = 3078.0\n",
      "10 * 342.0 = 3420.0\n"
     ]
    }
   ],
   "source": [
    "factor = float(input('Podaj liczbę z przedziału od 1 do 10: '))\n",
    "i = 0\n",
    "for i in range(0, 10):\n",
    "    result = round(((i + 1) * factor),2)\n",
    "    i += 1\n",
    "    print(i, '*', factor,'=', result)"
   ]
  },
  {
   "cell_type": "markdown",
   "id": "8e1a3557-0cc8-496e-bbad-38df6dc1bdfa",
   "metadata": {
    "jp-MarkdownHeadingCollapsed": true
   },
   "source": [
    "---\n",
    "#### FizzBuzz\n",
    "Dla liczb z zakresu od 1 do 100 (włącznie) napisz program, który:\n",
    "\n",
    "- dla liczby podzielnej przez 3 wypisze **Fizz**,\n",
    "- dla liczby podzielnej przez 5 wypisze **Buzz**,\n",
    "- dla liczby podzielnej przez 3 i 5 wypisze **FizzBuzz**,\n",
    "- w przeciwnym wypadku program wypisze na ekran liczbę."
   ]
  },
  {
   "cell_type": "code",
   "execution_count": 173,
   "id": "ce126c76-4198-4b62-bcd4-6e8949105258",
   "metadata": {
    "scrolled": true
   },
   "outputs": [
    {
     "name": "stdout",
     "output_type": "stream",
     "text": [
      "1\n",
      "2\n",
      "3   Fizz\n",
      "4\n",
      "5   Buzz\n",
      "6   Fizz\n",
      "7\n",
      "8\n",
      "9   Fizz\n",
      "10   Buzz\n",
      "11\n",
      "12   Fizz\n",
      "13\n",
      "14\n",
      "15   FizzBuzz\n",
      "16\n",
      "17\n",
      "18   Fizz\n",
      "19\n",
      "20   Buzz\n",
      "21   Fizz\n",
      "22\n",
      "23\n",
      "24   Fizz\n",
      "25   Buzz\n",
      "26\n",
      "27   Fizz\n",
      "28\n",
      "29\n",
      "30   FizzBuzz\n",
      "31\n",
      "32\n",
      "33   Fizz\n",
      "34\n",
      "35   Buzz\n",
      "36   Fizz\n",
      "37\n",
      "38\n",
      "39   Fizz\n",
      "40   Buzz\n",
      "41\n",
      "42   Fizz\n",
      "43\n",
      "44\n",
      "45   FizzBuzz\n",
      "46\n",
      "47\n",
      "48   Fizz\n",
      "49\n",
      "50   Buzz\n",
      "51   Fizz\n",
      "52\n",
      "53\n",
      "54   Fizz\n",
      "55   Buzz\n",
      "56\n",
      "57   Fizz\n",
      "58\n",
      "59\n",
      "60   FizzBuzz\n",
      "61\n",
      "62\n",
      "63   Fizz\n",
      "64\n",
      "65   Buzz\n",
      "66   Fizz\n",
      "67\n",
      "68\n",
      "69   Fizz\n",
      "70   Buzz\n",
      "71\n",
      "72   Fizz\n",
      "73\n",
      "74\n",
      "75   FizzBuzz\n",
      "76\n",
      "77\n",
      "78   Fizz\n",
      "79\n",
      "80   Buzz\n",
      "81   Fizz\n",
      "82\n",
      "83\n",
      "84   Fizz\n",
      "85   Buzz\n",
      "86\n",
      "87   Fizz\n",
      "88\n",
      "89\n",
      "90   FizzBuzz\n",
      "91\n",
      "92\n",
      "93   Fizz\n",
      "94\n",
      "95   Buzz\n",
      "96   Fizz\n",
      "97\n",
      "98\n",
      "99   Fizz\n",
      "100   Buzz\n"
     ]
    }
   ],
   "source": [
    "for i in range(1, 101):\n",
    "    if (i % 15 == 0):\n",
    "        print(i, '  FizzBuzz')\n",
    "    elif (i % 3 == 0):\n",
    "        print(i, '  Fizz')\n",
    "    else: \n",
    "        if(i % 5 == 0):\n",
    "            print(i,  '  Buzz')\n",
    "        else: \n",
    "            print(i)\n",
    "i += 1\n"
   ]
  },
  {
   "cell_type": "markdown",
   "id": "22593497-4f86-4f1a-94d0-39fd025d7491",
   "metadata": {
    "jp-MarkdownHeadingCollapsed": true
   },
   "source": [
    "---\n",
    "## Brudnopis\n",
    "#### czyli ćwiczenia różne"
   ]
  },
  {
   "cell_type": "code",
   "execution_count": 1,
   "id": "5b6d61b8-8db7-4cee-96b1-8db422d65cb2",
   "metadata": {
    "editable": true,
    "slideshow": {
     "slide_type": ""
    },
    "tags": []
   },
   "outputs": [
    {
     "name": "stdout",
     "output_type": "stream",
     "text": [
      "Jestę\n",
      "Jestę\n",
      "Jestę\n",
      "Jestę\n",
      "Jestę\n",
      "Jestę\n",
      "Jestę\n",
      "Jestę\n",
      "Jestę\n",
      "Jestę\n"
     ]
    }
   ],
   "source": [
    "i = 0\n",
    "while i < 10:\n",
    "    print('Jestę')\n",
    "    i += 1"
   ]
  },
  {
   "cell_type": "code",
   "execution_count": 56,
   "id": "c797c765-bc07-4202-98e1-3c9dbb4da6eb",
   "metadata": {},
   "outputs": [
    {
     "name": "stdout",
     "output_type": "stream",
     "text": [
      "abc\n",
      "abc\n"
     ]
    },
    {
     "data": {
      "text/plain": [
       "set"
      ]
     },
     "execution_count": 56,
     "metadata": {},
     "output_type": "execute_result"
    }
   ],
   "source": [
    "x = {0, 23}\n",
    "for i in x:\n",
    "    print('abc')\n",
    "\n",
    "type(x)"
   ]
  },
  {
   "cell_type": "code",
   "execution_count": 98,
   "id": "68a4ad06-ec0f-416c-a3f2-2ef17e30f060",
   "metadata": {},
   "outputs": [
    {
     "name": "stdout",
     "output_type": "stream",
     "text": [
      "Ewa Stepaniuk\n"
     ]
    }
   ],
   "source": [
    "print('ewa'.capitalize() + ' ' + 'stepaniuk'.capitalize())"
   ]
  },
  {
   "cell_type": "code",
   "execution_count": 12,
   "id": "2b845b4b-3f83-48c4-bcf6-cb3b0a5f2330",
   "metadata": {},
   "outputs": [
    {
     "name": "stdout",
     "output_type": "stream",
     "text": [
      "abc\n",
      "abc\n",
      "abc\n"
     ]
    }
   ],
   "source": [
    "for i in range(3):\n",
    "    print('abc')"
   ]
  },
  {
   "cell_type": "code",
   "execution_count": 17,
   "id": "0eb03bd6-79af-4ef1-976d-5ad1bd046dd1",
   "metadata": {},
   "outputs": [
    {
     "name": "stdout",
     "output_type": "stream",
     "text": [
      "bcd\n",
      "bcd\n",
      "bcd\n"
     ]
    }
   ],
   "source": [
    "n = 2\n",
    "while n < 5:\n",
    "    print('bcd')\n",
    "    n += 1"
   ]
  },
  {
   "cell_type": "code",
   "execution_count": 176,
   "id": "30006db6-90f6-4f56-b2b5-7cdd04d92956",
   "metadata": {},
   "outputs": [
    {
     "name": "stdout",
     "output_type": "stream",
     "text": [
      "baba\n"
     ]
    }
   ],
   "source": [
    "n = ('ala')\n",
    "if n < 'ala':\n",
    "    print('olo')\n",
    "elif n == 'ala':\n",
    "    print('baba')\n",
    "else:\n",
    "    print('uzupełnij')"
   ]
  },
  {
   "cell_type": "code",
   "execution_count": 177,
   "id": "11f44285-a656-4f5d-b4cb-07843983bc66",
   "metadata": {},
   "outputs": [
    {
     "name": "stdout",
     "output_type": "stream",
     "text": [
      "0\n",
      "1\n",
      "16\n",
      "81\n",
      "256\n"
     ]
    }
   ],
   "source": [
    "a = [1, 2, 3, 4]\n",
    "for i in range(5):\n",
    "    result = i ** 4\n",
    "    print(result)\n"
   ]
  },
  {
   "cell_type": "code",
   "execution_count": 65,
   "id": "f54cc26f-2a38-4018-9034-8d3eb6236241",
   "metadata": {
    "jupyter": {
     "source_hidden": true
    },
    "scrolled": true
   },
   "outputs": [
    {
     "name": "stdout",
     "output_type": "stream",
     "text": [
      "2^0 = 1\n",
      "2^1 = 2\n",
      "2^2 = 4\n",
      "2^3 = 8\n",
      "2^4 = 16\n",
      "2^5 = 32\n",
      "2^6 = 64\n",
      "2^7 = 128\n",
      "2^8 = 256\n",
      "2^9 = 512\n",
      "2^10 = 1024\n"
     ]
    }
   ],
   "source": [
    "for i in range(11):\n",
    "    wynik = 2 ** i\n",
    "    print(f'2^{i} = {wynik}')"
   ]
  },
  {
   "cell_type": "code",
   "execution_count": 87,
   "id": "c61be332-bdcd-42ba-8101-fed02a54567d",
   "metadata": {},
   "outputs": [
    {
     "name": "stdin",
     "output_type": "stream",
     "text": [
      "Podaj imię:  Ewa\n",
      "Podaj drugie imię:  ewa\n"
     ]
    },
    {
     "name": "stdout",
     "output_type": "stream",
     "text": [
      "The same\n"
     ]
    }
   ],
   "source": [
    "first_name = input('Podaj imię: ')\n",
    "second_name = input('Podaj drugie imię: ')\n",
    "if first_name.lower() == second_name.lower():\n",
    "    print('The same')\n",
    "else:\n",
    "    print('Różne')\n",
    "\n",
    "    "
   ]
  },
  {
   "cell_type": "code",
   "execution_count": 111,
   "id": "339b3b61-6865-49a2-ad08-5863a8298134",
   "metadata": {},
   "outputs": [
    {
     "name": "stdin",
     "output_type": "stream",
     "text": [
      "a:  24.3\n",
      "b:  12e8\n"
     ]
    },
    {
     "name": "stdout",
     "output_type": "stream",
     "text": [
      "a < b\n"
     ]
    }
   ],
   "source": [
    "a = float(input('a: '))\n",
    "b = float(input('b: '))\n",
    "if a > b:\n",
    "    print('a > b')\n",
    "elif a == b:\n",
    "    print('a = b')\n",
    "else:\n",
    "    print('a < b')"
   ]
  }
 ],
 "metadata": {
  "kernelspec": {
   "display_name": "Python 3 (ipykernel)",
   "language": "python",
   "name": "python3"
  },
  "language_info": {
   "codemirror_mode": {
    "name": "ipython",
    "version": 3
   },
   "file_extension": ".py",
   "mimetype": "text/x-python",
   "name": "python",
   "nbconvert_exporter": "python",
   "pygments_lexer": "ipython3",
   "version": "3.12.7"
  }
 },
 "nbformat": 4,
 "nbformat_minor": 5
}
