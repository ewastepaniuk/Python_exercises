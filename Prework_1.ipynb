{
 "cells": [
  {
   "cell_type": "markdown",
   "id": "5087db55-1d43-4105-b7b4-5c258df35101",
   "metadata": {},
   "source": [
    "### Wprowadzenie do języka Python"
   ]
  },
  {
   "cell_type": "markdown",
   "id": "4250fb7f-b16e-4807-8eca-1271e8bcb407",
   "metadata": {},
   "source": [
    "##### Zad.1. Sprawdzenie testu"
   ]
  },
  {
   "cell_type": "code",
   "execution_count": 40,
   "id": "9256a34e-cf4e-499d-9af7-bfd024a2b474",
   "metadata": {},
   "outputs": [
    {
     "name": "stdout",
     "output_type": "stream",
     "text": [
      "Checked 8 question\n",
      "Student got 4 answers right out of 8 questions\n"
     ]
    }
   ],
   "source": [
    "# Variables initialization with data\n",
    "key_answers = ['c', 'b', 'a', 'd', 'a', 'b', 'c', 'd']        # tworzenie zmiennej PRZECHOWUJĄCEJ klucz odpowiedzi do testu\n",
    "student_answers = ['a', 'a', 'a', 'd', 'a', 'b', 'a', 'c']    # tworzenie zmniennej PRZECHOWUJĄCEJ wszystkie odpowiedzi studenta\n",
    "\n",
    "# Variables needed for program logic\n",
    "good_answers = 0                                             # zmienna do PRZECHOWANIA ilości tylko POPRAWNYCH odpowiedzi studenta; zaczynamy od 0 bo nie sprawdziliśmy jeszcze ile tych odp. udzielił (początek pętli)\n",
    "answers_lenght = len(key_answers)                             # zmienna przechowująca ilość odpowiedzi, czyli określająca iterację. len() zlicza ilość odpowiedzi, którą trzeba sprawdzić\n",
    "\n",
    "# for to pętla rozpoczynająca naszą iterację\n",
    "for n in range(answers_lenght):                               # uruchamiamy pętlę liczoną od n=0 do długości zakresu listy -1 (bo zaczynamy od zera)\n",
    "    if(key_answers[n] == student_answers[n]):                 # sprawdzamy, czy elementy na pozycji [n] są takie same; [n] to zmnienna trzymająca nr iteracji\n",
    "        good_answers = good_answers + 1                       # jeśli tak (uruchamiane tylko i wyłącznie w przypadku, gdy if jest True), do zmiennej good_answers dodajemy +1.\n",
    "\n",
    "print(f\"Checked {n + 1} question\")                            # wyświetlenie tekstu z informacją o sprawdzeniu odpowiedzi na pytanie\n",
    "\n",
    "print(f\"Student got {good_answers} answers right out of {answers_lenght} questions\") # wyświetlamy ostateczny wynik ucznia "
   ]
  },
  {
   "cell_type": "markdown",
   "id": "adb7ee73-5312-49af-b6de-8819ac2597d2",
   "metadata": {},
   "source": [
    "---\n",
    "#### Modyfikacja zmiennej"
   ]
  },
  {
   "cell_type": "code",
   "execution_count": 42,
   "id": "fcd6257f-7671-4d41-9590-9aa940590e2c",
   "metadata": {},
   "outputs": [
    {
     "name": "stdout",
     "output_type": "stream",
     "text": [
      "Mam na imię Ewa\n"
     ]
    }
   ],
   "source": [
    "Twoje_imie = \"Ewa\"\n",
    "print(f\"Mam na imię {Twoje_imie}\")"
   ]
  },
  {
   "cell_type": "code",
   "execution_count": 46,
   "id": "a7cd3ca6-c89c-4473-ae1a-b9876f49cee5",
   "metadata": {},
   "outputs": [
    {
     "data": {
      "text/plain": [
       "60"
      ]
     },
     "execution_count": 46,
     "metadata": {},
     "output_type": "execute_result"
    }
   ],
   "source": [
    "2 + 3\n",
    "10 / 4\n",
    "30 * 2  # w takich syt. Python wyrzuca wynik tylko ostatniej operacji do czasu, aż poprzednie nie zostaną użyte w dalszej części kodu. Poprzednie linie nie wpływają na ostatnią."
   ]
  },
  {
   "cell_type": "code",
   "execution_count": 53,
   "id": "f57f2499-897d-4656-92c7-cd432a8a89f0",
   "metadata": {},
   "outputs": [
    {
     "data": {
      "text/plain": [
       "('Hello World', 'Hello')"
      ]
     },
     "execution_count": 53,
     "metadata": {},
     "output_type": "execute_result"
    }
   ],
   "source": [
    "# Nie ma znaczenia czy tekst będzie zapisany w \"\", czy w ''. I tak zostanie wyświetlony w ''\n",
    "'Hello World', \"Hello\""
   ]
  },
  {
   "cell_type": "code",
   "execution_count": 57,
   "id": "9172a874-f88b-4887-ae7e-042c49522c74",
   "metadata": {},
   "outputs": [],
   "source": [
    "color = 0xf200b5  # hexadecimal\n",
    "counter = -18\n",
    "access = 0o777  # octal\n",
    "binary = 0b1101"
   ]
  },
  {
   "cell_type": "code",
   "execution_count": 62,
   "id": "8e19ac60-8f0e-465d-8b20-672c900a8761",
   "metadata": {},
   "outputs": [
    {
     "name": "stdout",
     "output_type": "stream",
     "text": [
      "[15859893, -18, 511, 13]\n"
     ]
    }
   ],
   "source": [
    "print([color, counter, access, binary])"
   ]
  },
  {
   "cell_type": "code",
   "execution_count": 63,
   "id": "3ba87c69-356b-4cdf-888a-f4ec5835548c",
   "metadata": {},
   "outputs": [],
   "source": [
    "sqrt = 2j"
   ]
  },
  {
   "cell_type": "code",
   "execution_count": 64,
   "id": "6ad2a8a9-f692-4dbf-9501-a9a2bf374d3f",
   "metadata": {},
   "outputs": [
    {
     "data": {
      "text/plain": [
       "complex"
      ]
     },
     "execution_count": 64,
     "metadata": {},
     "output_type": "execute_result"
    }
   ],
   "source": [
    "type(sqrt)"
   ]
  },
  {
   "cell_type": "code",
   "execution_count": 65,
   "id": "7d7833d2-082a-4782-a80f-21b1426587e3",
   "metadata": {},
   "outputs": [
    {
     "name": "stdout",
     "output_type": "stream",
     "text": [
      "2j\n"
     ]
    }
   ],
   "source": [
    "print(sqrt)"
   ]
  },
  {
   "cell_type": "code",
   "execution_count": 109,
   "id": "797ca5a9-0347-429f-a3fe-fe5a8b3d7ba8",
   "metadata": {},
   "outputs": [
    {
     "name": "stdout",
     "output_type": "stream",
     "text": [
      "1 3 3.3333333333333335 [1, 3]\n"
     ]
    },
    {
     "data": {
      "text/plain": [
       "(int, int, float, list)"
      ]
     },
     "execution_count": 109,
     "metadata": {},
     "output_type": "execute_result"
    }
   ],
   "source": [
    "m = 10 % 3  # modulo, czyli reszta z dzielenia\n",
    "t = 10 // 3  # dzielenie całkowite\n",
    "f = 10 / 3\n",
    "l = [m, 10 // 3]\n",
    "\n",
    "print(m, t, f, l)\n",
    "type(m), type(t), type(f), type (l)"
   ]
  },
  {
   "cell_type": "markdown",
   "id": "ee1c4f6f-a48d-4643-b33a-b1868c5faf67",
   "metadata": {},
   "source": [
    "\n",
    "---\n",
    "#### Teksty i operacje na nich"
   ]
  },
  {
   "cell_type": "code",
   "execution_count": 152,
   "id": "b2ccb558-1027-4208-b134-4b0a9eac043a",
   "metadata": {},
   "outputs": [
    {
     "name": "stdout",
     "output_type": "stream",
     "text": [
      "It is a period of civil war.\n",
      "Rebel spaceships, striking from a hidden base,\n",
      "have won their first victory against the evil Galactic Empire.\n"
     ]
    },
    {
     "data": {
      "text/plain": [
       "str"
      ]
     },
     "execution_count": 152,
     "metadata": {},
     "output_type": "execute_result"
    }
   ],
   "source": [
    "# Łańcuch tekstowy jako zmienna\n",
    "abc = \"\"\"It is a period of civil war.\\nRebel spaceships, striking from a hidden base,\\nhave won their first victory against the evil Galactic Empire.\"\"\"\n",
    "print(abc)\n",
    "type(abc)"
   ]
  },
  {
   "cell_type": "code",
   "execution_count": 131,
   "id": "3d6b4739-faf9-4acd-8662-daa669748853",
   "metadata": {},
   "outputs": [
    {
     "data": {
      "text/plain": [
       "' It is a period of civil war. Rebel spaceships, striking from a hidden base, have won their first victory against the evil Galactic Empire. ................................ aaaaaaaaa xxxxxxx abc sddsdsdsdsdsdsdsds'"
      ]
     },
     "execution_count": 131,
     "metadata": {},
     "output_type": "execute_result"
    }
   ],
   "source": [
    "# Łańcuch tekstowy\n",
    "\"\"\" It is a period of civil war. Rebel spaceships, striking from a hidden base, have won their first victory against the evil Galactic Empire. ................................ aaaaaaaaa xxxxxxx abc sddsdsdsdsdsdsdsds\"\"\""
   ]
  },
  {
   "cell_type": "code",
   "execution_count": 3,
   "id": "c24b2093-decb-454f-b2e4-8b4f9d6b6002",
   "metadata": {},
   "outputs": [
    {
     "name": "stdout",
     "output_type": "stream",
     "text": [
      "It is a period of civil war.\n",
      "Rebel spaceships, striking from a hidden base, \n",
      "have won their first victory against the evil Galactic Empire.\n"
     ]
    }
   ],
   "source": [
    "txt = \"\"\"It is a period of civil war.\n",
    "Rebel spaceships, striking from a hidden base, \n",
    "have won their first victory against the evil Galactic Empire.\"\"\" \n",
    "print(txt)"
   ]
  },
  {
   "cell_type": "code",
   "execution_count": 147,
   "id": "d325f325-e9e1-4099-ba07-40b33ad5f0c4",
   "metadata": {},
   "outputs": [
    {
     "name": "stdout",
     "output_type": "stream",
     "text": [
      " text1: jedno słowo \n",
      " drugie słowo\n",
      " text2: jedno słowo \\n drugie słowo\n"
     ]
    }
   ],
   "source": [
    "# raw string ignoruje interpretacje znaków specjalnych:\n",
    "\n",
    "text1 = ' text1: jedno słowo \\n drugie słowo\\n'\n",
    "text2 = r'text2: jedno słowo \\n drugie słowo'  # raw string poprzedzony r''\n",
    "\n",
    "print(text1, text2)"
   ]
  },
  {
   "cell_type": "code",
   "execution_count": 4,
   "id": "94818414-6c1e-4da9-8d61-400f60852d7d",
   "metadata": {},
   "outputs": [
    {
     "name": "stdout",
     "output_type": "stream",
     "text": [
      "ala ma kota trolololololololo\n"
     ]
    }
   ],
   "source": [
    "result = 'ala' + ' ' + 'ma kota'  # dodawanie\n",
    "result2 = 'trolololo' + 'lolo' * 2  # mnożenie tylko przez int()\n",
    "\n",
    "print(result, result2)"
   ]
  },
  {
   "cell_type": "markdown",
   "id": "62c485ba-327c-4549-80b2-581853ad73d7",
   "metadata": {},
   "source": [
    "---\n",
    "#### Przekazywanie zmiennych do ciągów znaków\n",
    "1. instrukcja **format**\n",
    "2. **fstring**"
   ]
  },
  {
   "cell_type": "markdown",
   "id": "2b3cc3a3-62eb-4eb6-8336-722c6d5717b7",
   "metadata": {},
   "source": [
    "Ad. 1) Instrukcja **format**\n",
    "\n",
    "-  {  } - miejsca dla zmiennych\n",
    "-  **.format(**'Alice',  **cat)** - przekazanie danych; można bezpośrednio, jak *'Alice'*, lub przez zmienną **cat**"
   ]
  },
  {
   "cell_type": "code",
   "execution_count": 166,
   "id": "4a38bc8b-8197-4b50-8883-56b87c08579f",
   "metadata": {},
   "outputs": [
    {
     "name": "stdout",
     "output_type": "stream",
     "text": [
      "Alice has a cat named Garfield.\n"
     ]
    }
   ],
   "source": [
    "cat = 'Garfield'\n",
    "result = '{} has a cat named {}.'.format('Alice', cat)\n",
    "print(result)"
   ]
  },
  {
   "cell_type": "markdown",
   "id": "7c5850ec-a816-4b08-a7d0-9e0a3ba0b015",
   "metadata": {},
   "source": [
    "Ad. 2) **fstring**"
   ]
  },
  {
   "cell_type": "code",
   "execution_count": 164,
   "id": "16e47ea7-09a1-4ed9-b487-690c5a05889e",
   "metadata": {},
   "outputs": [
    {
     "name": "stdout",
     "output_type": "stream",
     "text": [
      "The answer is 42\n"
     ]
    }
   ],
   "source": [
    "answer = 42\n",
    "result = f'The answer is {answer}'\n",
    "print(result)"
   ]
  },
  {
   "cell_type": "markdown",
   "id": "39d54056-3c71-41c8-87cf-e8bc0e8f3c77",
   "metadata": {},
   "source": [
    "---\n",
    "### Typ danych: Lista [  ]\n",
    "\n",
    "Do zapamiętania:\n",
    "1. Umieszczana w [  ]\n",
    "2. Wnętrze oddzielane przecinkiem [1, 2, 3, ...]\n",
    "3. Możemy mieszać typy ['text', 1, 3]\n",
    "4. wyciągamy z niej dane za pomocą indeksów, pamiętając o ind. odwrotnym [::-1] [-2]\n",
    "5. nazywamy ją, podobnie jak zmienną\n",
    "6. Możemy ją dodawać (scalać) i/lub mnożyć (powielać n-razy)"
   ]
  },
  {
   "cell_type": "code",
   "execution_count": 5,
   "id": "3a52841c-6d8b-4980-9414-4631721d9da1",
   "metadata": {},
   "outputs": [
    {
     "name": "stdout",
     "output_type": "stream",
     "text": [
      "['Ewa', 'Mewa', 'Z drzewa']      Mewa     [1, None, 'x', 4.2, False]\n"
     ]
    }
   ],
   "source": [
    "numbers = [1, 3, 5]\n",
    "club_members = ['Ewa', 'Mewa', 'Z drzewa']\n",
    "various = [1, None, 'x', 4.2, False]\n",
    "\n",
    "print(club_members, '    ', club_members[1], '   ', various)"
   ]
  },
  {
   "cell_type": "code",
   "execution_count": 191,
   "id": "bd5177f1-8721-45bc-8382-3db7dc2ccdea",
   "metadata": {},
   "outputs": [
    {
     "name": "stdout",
     "output_type": "stream",
     "text": [
      "1 x Z drzewa\n"
     ]
    }
   ],
   "source": [
    "print(various[0], various[2], club_members[2])"
   ]
  },
  {
   "cell_type": "code",
   "execution_count": 198,
   "id": "8b10f4a8-4527-4c06-939b-5246e3462807",
   "metadata": {},
   "outputs": [
    {
     "name": "stdout",
     "output_type": "stream",
     "text": [
      "[5, 3, 1] [1, 3]\n"
     ]
    }
   ],
   "source": [
    "print(numbers[::-1], numbers[0:2])"
   ]
  },
  {
   "cell_type": "code",
   "execution_count": 202,
   "id": "d3d75f96-192f-4500-a2b8-d09b5c1384c1",
   "metadata": {},
   "outputs": [
    {
     "name": "stdout",
     "output_type": "stream",
     "text": [
      "3 3\n"
     ]
    }
   ],
   "source": [
    "print(numbers[1], numbers[-2])  # 1 licząc od lewej to 3, a licząc od prawej: '5' to -1, a '3' to -2"
   ]
  },
  {
   "cell_type": "code",
   "execution_count": 7,
   "id": "1a95033d-1e68-4da8-8a61-24cebfdd8d2a",
   "metadata": {},
   "outputs": [
    {
     "name": "stdout",
     "output_type": "stream",
     "text": [
      "['ala ma kota', 'i', 'alergię'] \n",
      " ['i robi:', 'a ciuch!', 'a ciuch!', 'a ciuch!']\n"
     ]
    }
   ],
   "source": [
    "result1 = ['ala ma kota'] + ['i', 'alergię']\n",
    "result2 = ['i robi:'] + ['a ciuch!'] * 3\n",
    "text = 'blah'\n",
    "\n",
    "print(result1, '\\n', result2)"
   ]
  },
  {
   "cell_type": "code",
   "execution_count": 8,
   "id": "e14cd6dc-bb30-4bd2-8c15-1582df3ff40a",
   "metadata": {},
   "outputs": [
    {
     "data": {
      "text/plain": [
       "3"
      ]
     },
     "execution_count": 8,
     "metadata": {},
     "output_type": "execute_result"
    }
   ],
   "source": [
    "len(result1)  # zlicza ilość słów w tekście"
   ]
  },
  {
   "cell_type": "code",
   "execution_count": 214,
   "id": "9188cd41-726e-4357-9d2d-e3dd0f6b7bea",
   "metadata": {},
   "outputs": [
    {
     "name": "stdout",
     "output_type": "stream",
     "text": [
      "4\n"
     ]
    }
   ],
   "source": [
    "text_lenght = len(text)\n",
    "print(text_lenght)"
   ]
  },
  {
   "cell_type": "markdown",
   "id": "27fca000-643a-49f6-bcd6-b251b02e1d42",
   "metadata": {},
   "source": [
    "---\n",
    "#### Dodawanie elementów do listy\n",
    "\n",
    "1. **append** - dodanie do końca listy\n",
    "2. **extend** - zamiennik **+**\n",
    "3. **insert** - dodaje element we wskazanie przez indeks miejsce"
   ]
  },
  {
   "cell_type": "markdown",
   "id": "a06f8ec2-71c6-43af-b1ee-4fa4939ce9c3",
   "metadata": {},
   "source": []
  },
  {
   "cell_type": "code",
   "execution_count": 47,
   "id": "c197f0e9-101e-4239-86c8-001a8a32921a",
   "metadata": {},
   "outputs": [
    {
     "name": "stdout",
     "output_type": "stream",
     "text": [
      "[1, 2, 3]\n"
     ]
    }
   ],
   "source": [
    "digits = [1, 2, 3]\n",
    "text_to_add = 'a'\n",
    "\n",
    "print(digits)"
   ]
  },
  {
   "cell_type": "code",
   "execution_count": 52,
   "id": "72c72e5b-6e24-4037-8313-0017f30aac50",
   "metadata": {},
   "outputs": [
    {
     "name": "stdout",
     "output_type": "stream",
     "text": [
      "[1, 2, 3, 42, [42], {42}, 42]\n"
     ]
    }
   ],
   "source": [
    "digits.append((42))\n",
    "print(digits)"
   ]
  },
  {
   "cell_type": "code",
   "execution_count": 247,
   "id": "5dfbe8d3-85e0-47ad-88aa-75e12981efe4",
   "metadata": {},
   "outputs": [
    {
     "name": "stdout",
     "output_type": "stream",
     "text": [
      "[1, 2, 3, 'a', 42, 1990]\n"
     ]
    }
   ],
   "source": [
    "digits.extend([42, 1990])\n",
    "print(digits)"
   ]
  },
  {
   "cell_type": "code",
   "execution_count": 248,
   "id": "eb9f7042-4d6e-4b50-a2e6-15cd02a68e65",
   "metadata": {},
   "outputs": [
    {
     "name": "stdout",
     "output_type": "stream",
     "text": [
      "[1, 2, 3, 'a', 'a', 42, 1990]\n"
     ]
    }
   ],
   "source": [
    "digits.insert(3, text_to_add)\n",
    "print(digits)"
   ]
  },
  {
   "cell_type": "code",
   "execution_count": null,
   "id": "9dd258d6-7541-429a-b03f-315d006de96a",
   "metadata": {},
   "outputs": [],
   "source": []
  },
  {
   "cell_type": "code",
   "execution_count": 359,
   "id": "aae939ed-c9d8-497d-b597-8afa6d147ee5",
   "metadata": {},
   "outputs": [
    {
     "name": "stdout",
     "output_type": "stream",
     "text": [
      "Zmienna:  1 typ:  <class 'int'>\n",
      "Zmienna:  5.2 typ:  <class 'float'>\n",
      "Zmienna:  ala typ:  <class 'str'>\n",
      "Zmienna:  klkl typ:  <class 'str'>\n",
      "Zmienna:  True typ:  <class 'bool'>\n"
     ]
    }
   ],
   "source": [
    "listabc = [1, 5.2, 'ala', \"\"\"klkl\"\"\", True]\n",
    "i = len(listabc)\n",
    "\n",
    "for i in range(len(listabc)):\n",
    "    print(\"Zmienna: \", listabc[i], \"typ: \", type(listabc[i]))"
   ]
  },
  {
   "cell_type": "code",
   "execution_count": 7,
   "id": "e565275a-d256-41ed-8e82-1120caa39034",
   "metadata": {},
   "outputs": [
    {
     "name": "stdout",
     "output_type": "stream",
     "text": [
      "46.2\n"
     ]
    }
   ],
   "source": [
    "add1 = int(42)\n",
    "add2 = float(4.2)\n",
    "sum_value = add1 + add2\n",
    "print(sum_value)"
   ]
  },
  {
   "cell_type": "code",
   "execution_count": 8,
   "id": "b42289ab-df24-417c-89e4-610ec78f1379",
   "metadata": {},
   "outputs": [
    {
     "data": {
      "text/plain": [
       "(int, float)"
      ]
     },
     "execution_count": 8,
     "metadata": {},
     "output_type": "execute_result"
    }
   ],
   "source": [
    "type(add1), type(add2)"
   ]
  },
  {
   "cell_type": "code",
   "execution_count": 12,
   "id": "82d53b7f-8357-4ae3-b832-38f5fce268c5",
   "metadata": {},
   "outputs": [
    {
     "name": "stdout",
     "output_type": "stream",
     "text": [
      "25 1.5 1\n"
     ]
    },
    {
     "data": {
      "text/plain": [
       "(int, float, int)"
      ]
     },
     "execution_count": 12,
     "metadata": {},
     "output_type": "execute_result"
    }
   ],
   "source": [
    "a = 10\n",
    "b = 15\n",
    "sum_value = a + b\n",
    "quotus = b / a\n",
    "int_parts = b // a\n",
    "\n",
    "print(sum_value, quotus, int_parts)\n",
    "type(sum_value), type(quotus), type(int_parts)"
   ]
  },
  {
   "cell_type": "code",
   "execution_count": 43,
   "id": "31f6c1e8-1ef6-4194-af60-b31cf9e862a7",
   "metadata": {},
   "outputs": [
    {
     "name": "stdout",
     "output_type": "stream",
     "text": [
      "[]\n"
     ]
    }
   ],
   "source": [
    "animals = []\n",
    "print(animals)"
   ]
  },
  {
   "cell_type": "code",
   "execution_count": 54,
   "id": "d035a3fc-0260-4a84-8e5e-4c763ccd1152",
   "metadata": {},
   "outputs": [
    {
     "name": "stdout",
     "output_type": "stream",
     "text": [
      "['Kłapouchy', 'P', 'u', 'c', 'h', 'a', 't', 'e', 'k', 'Puchatek', 42, 'Kłapouchy']\n"
     ]
    }
   ],
   "source": [
    "animals.append('Kłapouchy')\n",
    "print(animals)"
   ]
  },
  {
   "cell_type": "code",
   "execution_count": 45,
   "id": "a0bc9433-e13b-4cbb-8386-3fff32f20e11",
   "metadata": {},
   "outputs": [
    {
     "name": "stdout",
     "output_type": "stream",
     "text": [
      "['Kłapouchy', 'P', 'u', 'c', 'h', 'a', 't', 'e', 'k', 'Puchatek', 42]\n"
     ]
    }
   ],
   "source": [
    "animals.extend('Puchatek')  # jeśli wstawsię to w ten sposób, rozpozna to jako zbiór osobnych chartsów do dodania\n",
    "animals.extend(['Puchatek'])  # teraz jako całą nazwę\n",
    "animals.extend([42])\n",
    "print(animals)"
   ]
  },
  {
   "cell_type": "code",
   "execution_count": 35,
   "id": "6db48002-ef73-499e-94ea-0c85d197ae08",
   "metadata": {},
   "outputs": [
    {
     "name": "stdout",
     "output_type": "stream",
     "text": [
      "['Kłapouchy', 'P', 'Gumiś', 'u', 'c', 'h', 'a', 't', 'e', 'k', 'Puchatek']\n"
     ]
    }
   ],
   "source": [
    "animals.insert(2, 'Gumiś')  # będzie wstawiony na 2 pozycję listy\n",
    "print(animals)"
   ]
  },
  {
   "cell_type": "code",
   "execution_count": 62,
   "id": "f7380d05-19a7-4b1d-9e7d-0fda4c029edd",
   "metadata": {},
   "outputs": [
    {
     "name": "stdout",
     "output_type": "stream",
     "text": [
      "[[1, 2, 'ala']]\n"
     ]
    }
   ],
   "source": [
    "animals = []\n",
    "animals.append([1, 2, 'ala'])\n",
    "print(animals)"
   ]
  },
  {
   "cell_type": "code",
   "execution_count": 63,
   "id": "68192288-2f95-4306-a4d7-fc006869b51f",
   "metadata": {},
   "outputs": [
    {
     "name": "stdout",
     "output_type": "stream",
     "text": [
      "[[1, 2, 'ala'], {1}]\n"
     ]
    }
   ],
   "source": [
    "animals.append({1})\n",
    "print(animals)"
   ]
  },
  {
   "cell_type": "code",
   "execution_count": 64,
   "id": "be6e7d24-85bf-4a29-ac86-5ab71a85c373",
   "metadata": {},
   "outputs": [
    {
     "name": "stdout",
     "output_type": "stream",
     "text": [
      "[[1, 2, 'ala'], {1}, ()]\n"
     ]
    }
   ],
   "source": [
    "animals.append(())\n",
    "print(animals)"
   ]
  },
  {
   "cell_type": "code",
   "execution_count": 76,
   "id": "8bcb323f-a684-4943-bedf-c97f09ad3d26",
   "metadata": {},
   "outputs": [
    {
     "name": "stdout",
     "output_type": "stream",
     "text": [
      "['d', 1, 42, 'a', 3, 4]\n"
     ]
    }
   ],
   "source": [
    "animals = []\n",
    "animals.extend('d')\n",
    "animals.extend((1,))\n",
    "animals.extend([42])\n",
    "animals.extend({3, 'a', 4})  # elementy są dodawane do listy w tej kolejności, w jakiej są przechowywane w zbiorze w danym momencie, co może nie odpowiadać kolejności ich dodawania do zbioru.\n",
    "print(animals)"
   ]
  },
  {
   "cell_type": "code",
   "execution_count": 85,
   "id": "d9ecb950-a700-4483-9306-ca746ac8e495",
   "metadata": {},
   "outputs": [
    {
     "name": "stdout",
     "output_type": "stream",
     "text": [
      "Python is fun\n"
     ]
    }
   ],
   "source": [
    "words = ['is', 'wrong', 'dough', 'correspondence', 'Python', 'snake', 'tolerate', 'conflict', 'chase', 'begin', 'fun','confidence', 'beat']\n",
    "print(words[4], words[0], words[-3])"
   ]
  },
  {
   "cell_type": "markdown",
   "id": "1a43dbc2-8067-4e83-abf7-2c04abfbbcf2",
   "metadata": {},
   "source": [
    "---\n",
    "### Brudnopis do różnych ćwiczeń"
   ]
  },
  {
   "cell_type": "code",
   "execution_count": 92,
   "id": "5266149a-a4bb-4c3a-a997-4f9b0c2dbac0",
   "metadata": {},
   "outputs": [
    {
     "name": "stdin",
     "output_type": "stream",
     "text": [
      "podaj hasło okoń\n"
     ]
    },
    {
     "name": "stdout",
     "output_type": "stream",
     "text": [
      "okoń\n"
     ]
    }
   ],
   "source": [
    "x = input(\"podaj hasło\")\n",
    "print(x)"
   ]
  },
  {
   "cell_type": "code",
   "execution_count": 93,
   "id": "6ec94186-fc57-49f9-805a-433b317a6d8f",
   "metadata": {},
   "outputs": [
    {
     "data": {
      "text/plain": [
       "str"
      ]
     },
     "execution_count": 93,
     "metadata": {},
     "output_type": "execute_result"
    }
   ],
   "source": [
    "value = \"42\"\n",
    "type(value)"
   ]
  },
  {
   "cell_type": "code",
   "execution_count": 96,
   "id": "3070bc26-b144-4462-9858-459906542f37",
   "metadata": {},
   "outputs": [
    {
     "name": "stdout",
     "output_type": "stream",
     "text": [
      "42\n"
     ]
    },
    {
     "data": {
      "text/plain": [
       "int"
      ]
     },
     "execution_count": 96,
     "metadata": {},
     "output_type": "execute_result"
    }
   ],
   "source": [
    "new = int(value)\n",
    "print(value)\n",
    "type(new)"
   ]
  },
  {
   "cell_type": "code",
   "execution_count": 97,
   "id": "243fa03d-e910-4826-8f2b-3b9c3cd4e40a",
   "metadata": {},
   "outputs": [
    {
     "data": {
      "text/plain": [
       "str"
      ]
     },
     "execution_count": 97,
     "metadata": {},
     "output_type": "execute_result"
    }
   ],
   "source": [
    "phrase = 'alice has a cat'\n",
    "type(phrase)"
   ]
  },
  {
   "cell_type": "code",
   "execution_count": 98,
   "id": "48f79f8b-4f5c-4fde-8005-f9ace5c20c17",
   "metadata": {},
   "outputs": [
    {
     "name": "stdout",
     "output_type": "stream",
     "text": [
      "['a', 'l', 'i', 'c', 'e', ' ', 'h', 'a', 's', ' ', 'a', ' ', 'c', 'a', 't']\n"
     ]
    },
    {
     "data": {
      "text/plain": [
       "list"
      ]
     },
     "execution_count": 98,
     "metadata": {},
     "output_type": "execute_result"
    }
   ],
   "source": [
    "phrase2 = list(phrase)\n",
    "print(phrase2)\n",
    "type(phrase2)"
   ]
  },
  {
   "cell_type": "code",
   "execution_count": 99,
   "id": "b983e5d5-d417-402f-bce2-d346f97acce3",
   "metadata": {},
   "outputs": [
    {
     "name": "stdin",
     "output_type": "stream",
     "text": [
      "Podaj imię:  Guido\n",
      "Podaj nazwisko:  van Rossum\n"
     ]
    },
    {
     "name": "stdout",
     "output_type": "stream",
     "text": [
      "Guido van Rossum  jest twórcą Python.\n"
     ]
    }
   ],
   "source": [
    "name = input('Podaj imię: ')\n",
    "last_name = input('Podaj nazwisko: ')\n",
    "print(name, last_name, \" jest twórcą Python.\")"
   ]
  },
  {
   "cell_type": "code",
   "execution_count": 116,
   "id": "0b245dd6-bd91-4ac0-acc3-11d1c6360a85",
   "metadata": {},
   "outputs": [
    {
     "name": "stdout",
     "output_type": "stream",
     "text": [
      "a, b, c\n"
     ]
    }
   ],
   "source": [
    "tab = ['a', 'b', 'c']\n",
    "result = (', ').join(tab)\n",
    "print(result)"
   ]
  },
  {
   "cell_type": "code",
   "execution_count": 110,
   "id": "5b3073f8-7df8-4af9-b84f-260e89a2189c",
   "metadata": {},
   "outputs": [
    {
     "name": "stdout",
     "output_type": "stream",
     "text": [
      "Help on method_descriptor:\n",
      "\n",
      "join(self, iterable, /) unbound builtins.str method\n",
      "    Concatenate any number of strings.\n",
      "\n",
      "    The string whose method is called is inserted in between each given string.\n",
      "    The result is returned as a new string.\n",
      "\n",
      "    Example: '.'.join(['ab', 'pq', 'rs']) -> 'ab.pq.rs'\n",
      "\n"
     ]
    }
   ],
   "source": [
    "help(str.join)"
   ]
  },
  {
   "cell_type": "code",
   "execution_count": 1,
   "id": "73a48b43-8580-4de3-b093-b08e8bf448de",
   "metadata": {},
   "outputs": [
    {
     "name": "stdout",
     "output_type": "stream",
     "text": [
      "['a', 'b', 'c', 'd', 'e']\n"
     ]
    }
   ],
   "source": [
    "letters = ['a', 'b', 'c', 'd', 'e']\n",
    "print(letters)"
   ]
  },
  {
   "cell_type": "code",
   "execution_count": 3,
   "id": "293385a5-cfed-4d57-a2e9-5dbad76019dc",
   "metadata": {},
   "outputs": [
    {
     "data": {
      "text/plain": [
       "'a b c d e'"
      ]
     },
     "execution_count": 3,
     "metadata": {},
     "output_type": "execute_result"
    }
   ],
   "source": [
    "(' ').join(letters)"
   ]
  },
  {
   "cell_type": "code",
   "execution_count": 4,
   "id": "74216184-d942-477b-b63f-da948c1ba097",
   "metadata": {},
   "outputs": [
    {
     "name": "stdout",
     "output_type": "stream",
     "text": [
      "37\n"
     ]
    }
   ],
   "source": [
    "e = 143\n",
    "f = 53\n",
    "modulo_result = e % f\n",
    "print(modulo_result)"
   ]
  },
  {
   "cell_type": "code",
   "execution_count": 6,
   "id": "22495a95-0e68-488c-95f8-348e7e6c032b",
   "metadata": {},
   "outputs": [
    {
     "name": "stdout",
     "output_type": "stream",
     "text": [
      "145\n",
      "146\n",
      "145\n"
     ]
    }
   ],
   "source": [
    "counter = 145\n",
    "print(counter)\n",
    "counter += 1\n",
    "print(counter)\n",
    "counter -=1\n",
    "print(counter)"
   ]
  },
  {
   "cell_type": "code",
   "execution_count": 11,
   "id": "3e513bd4-2a8b-4201-a9a0-9abc9cf5e60b",
   "metadata": {},
   "outputs": [
    {
     "name": "stdin",
     "output_type": "stream",
     "text": [
      "Wpisz rok urodzenia ojca:  1961\n",
      "Podaj rok urodzenia dziecka:  1993\n"
     ]
    },
    {
     "name": "stdout",
     "output_type": "stream",
     "text": [
      "Ojciec jest starszy od dziecka o 32 lat.\n"
     ]
    }
   ],
   "source": [
    "father = int(input('Wpisz rok urodzenia ojca: '))\n",
    "child = int(input('Podaj rok urodzenia dziecka: '))\n",
    "difference = child - father\n",
    "result3 = f'Ojciec jest starszy od dziecka o {difference} lat.'\n",
    "print(result3)"
   ]
  },
  {
   "cell_type": "code",
   "execution_count": 17,
   "id": "ae7d7d45-b204-4429-a97e-b04736ba6b82",
   "metadata": {},
   "outputs": [
    {
     "name": "stdout",
     "output_type": "stream",
     "text": [
      "1.57\n"
     ]
    }
   ],
   "source": [
    "result4 = round(11 / 7, 2)\n",
    "print(result4)"
   ]
  },
  {
   "cell_type": "code",
   "execution_count": 16,
   "id": "02752c08-2e03-42cd-b77b-ed6f95cd3a65",
   "metadata": {},
   "outputs": [
    {
     "name": "stdout",
     "output_type": "stream",
     "text": [
      "Help on built-in function round in module builtins:\n",
      "\n",
      "round(number, ndigits=None)\n",
      "    Round a number to a given precision in decimal digits.\n",
      "\n",
      "    The return value is an integer if ndigits is omitted or None.  Otherwise\n",
      "    the return value has the same type as the number.  ndigits may be negative.\n",
      "\n"
     ]
    }
   ],
   "source": [
    "help(round)"
   ]
  },
  {
   "cell_type": "code",
   "execution_count": 29,
   "id": "94a98b81-52a2-4f48-b999-57ab6c09138a",
   "metadata": {},
   "outputs": [
    {
     "name": "stdin",
     "output_type": "stream",
     "text": [
      "Podaj swoje imię:  ewa\n",
      "Podaj rok urodzenia:  1993\n"
     ]
    },
    {
     "name": "stdout",
     "output_type": "stream",
     "text": [
      "Użytkownik: ewa jest w wieku 31 lat.\n"
     ]
    }
   ],
   "source": [
    "name = input('Podaj swoje imię: ')\n",
    "year = int(input('Podaj rok urodzenia: '))\n",
    "age = 2024 - year\n",
    "result5 = f'Użytkownik: {name} jest w wieku {age} lat.'\n",
    "print(result5)"
   ]
  },
  {
   "cell_type": "code",
   "execution_count": 2,
   "id": "0b069916-dcf3-4ef0-9c91-3b1a81994920",
   "metadata": {},
   "outputs": [
    {
     "data": {
      "text/plain": [
       "'jakaś przypadkowa fraza'"
      ]
     },
     "execution_count": 2,
     "metadata": {},
     "output_type": "execute_result"
    }
   ],
   "source": [
    "letters = ['jakaś', 'fraza']\n",
    "(' przypadkowa ').join(letters)"
   ]
  }
 ],
 "metadata": {
  "kernelspec": {
   "display_name": "Python 3 (ipykernel)",
   "language": "python",
   "name": "python3"
  },
  "language_info": {
   "codemirror_mode": {
    "name": "ipython",
    "version": 3
   },
   "file_extension": ".py",
   "mimetype": "text/x-python",
   "name": "python",
   "nbconvert_exporter": "python",
   "pygments_lexer": "ipython3",
   "version": "3.12.7"
  }
 },
 "nbformat": 4,
 "nbformat_minor": 5
}
